{
 "cells": [
  {
   "cell_type": "code",
   "execution_count": 2,
   "id": "ae63d99b",
   "metadata": {},
   "outputs": [
    {
     "name": "stdout",
     "output_type": "stream",
     "text": [
      "Hello, Jupyter from VS Code!\n"
     ]
    }
   ],
   "source": [
    "print(\"Hello, Jupyter from VS Code!\")"
   ]
  },
  {
   "cell_type": "code",
   "execution_count": null,
   "id": "fbc42805",
   "metadata": {},
   "outputs": [],
   "source": []
  }
 ],
 "metadata": {
  "kernelspec": {
   "display_name": ".venv",
   "language": "python",
   "name": "python3"
  },
  "language_info": {
   "codemirror_mode": {
    "name": "ipython",
    "version": 3
   },
   "file_extension": ".py",
   "mimetype": "text/x-python",
   "name": "python",
   "nbconvert_exporter": "python",
   "pygments_lexer": "ipython3",
   "version": "3.13.5"
  }
 },
 "nbformat": 4,
 "nbformat_minor": 5
}

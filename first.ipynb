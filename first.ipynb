{
 "cells": [
  {
   "cell_type": "code",
   "id": "fd5d347e",
   "metadata": {
    "ExecuteTime": {
     "end_time": "2025-08-13T04:04:03.410994Z",
     "start_time": "2025-08-13T04:03:55.658487Z"
    }
   },
   "source": [
    "name = input(\"What is your name? \")\n",
    "\n",
    "print(f'Hello Mr.{name}')\n",
    "\n",
    "width = float(input(\"Enter the width of the rectangle: \"))\n",
    "height = float(input(\"Enter the height of the rectangle: \"))\n",
    "\n",
    "area = width * height\n",
    "\n",
    "print(f'The area of the rectangle is {area} square units.')"
   ],
   "outputs": [
    {
     "name": "stdout",
     "output_type": "stream",
     "text": [
      "Hello Mr.ravi\n",
      "The area of the rectangle is 25.0 square units.\n"
     ]
    }
   ],
   "execution_count": 1
  },
  {
   "cell_type": "markdown",
   "id": "b5db73d2",
   "metadata": {},
   "source": [
    "# Lesson 2: Python Data Types & Control Flow\n",
    "\n",
    "---\n",
    "\n",
    "## 1. Data Types Overview\n",
    "\n",
    "Python has several basic data types:\n",
    "\n",
    "| Type    | Description                  | Example             |\n",
    "|---------|------------------------------|---------------------|\n",
    "| `int`   | Integer numbers              | `5`, `-10`          |\n",
    "| `float` | Decimal numbers              | `3.14`, `-0.001`    |\n",
    "| `str`   | Text (string)                | `\"hello\"`, `'a'`    |\n",
    "| `bool`  | Boolean (True or False)      | `True`, `False`     |\n",
    "| `list`  | Ordered, mutable collection  | `[1, 2, 3]`         |\n",
    "| `tuple` | Ordered, immutable collection| `(4, 5, 6)`         |\n",
    "| `dict`  | Key-value pairs              | `{'name': 'Bob'}`   |\n",
    "\n",
    "---\n",
    "\n",
    "## 2. Variables and Types\n",
    "\n",
    "```python\n",
    "x = 10         # int\n",
    "pi = 3.14      # float\n",
    "name = \"Alice\" # str\n",
    "is_happy = True # bool\n"
   ]
  },
  {
   "cell_type": "markdown",
   "id": "7bbb24a7",
   "metadata": {},
   "source": []
  },
  {
   "cell_type": "code",
   "execution_count": 3,
   "id": "2ba6422a",
   "metadata": {},
   "outputs": [
    {
     "name": "stdout",
     "output_type": "stream",
     "text": [
      "Integer: 10, Float: 3.14, String: Alice, Boolean: True\n"
     ]
    }
   ],
   "source": [
    "x = 10         # int\n",
    "pi = 3.14      # float\n",
    "name = \"Alice\" # str\n",
    "is_happy = True # bool\n",
    "\n",
    "print(f'Integer: {x}, Float: {pi}, String: {name}, Boolean: {is_happy}')"
   ]
  },
  {
   "cell_type": "code",
   "execution_count": 4,
   "id": "9f30eaa1",
   "metadata": {},
   "outputs": [
    {
     "name": "stdout",
     "output_type": "stream",
     "text": [
      "You are an adult.\n"
     ]
    }
   ],
   "source": [
    "'''4. Control Flow: if-else'''\n",
    "age = 20\n",
    "\n",
    "if age >= 18:\n",
    "    print(\"You are an adult.\")\n",
    "else:\n",
    "    print(\"You are a minor.\")"
   ]
  },
  {
   "cell_type": "code",
   "execution_count": 5,
   "id": "b4c03d97",
   "metadata": {},
   "outputs": [
    {
     "name": "stdout",
     "output_type": "stream",
     "text": [
      "For loop iteration 0\n",
      "For loop iteration 1\n",
      "For loop iteration 2\n",
      "For loop iteration 3\n",
      "For loop iteration 4\n",
      "While loop count: 0\n",
      "While loop count: 1\n",
      "While loop count: 2\n",
      "While loop count: 3\n",
      "While loop count: 4\n"
     ]
    }
   ],
   "source": [
    "'''For loop and while loop'''\n",
    "for i in range(5):\n",
    "    print(f'For loop iteration {i}')\n",
    "\n",
    "count = 0\n",
    "while count < 5:\n",
    "    print(f'While loop count: {count}')\n",
    "    count += 1"
   ]
  },
  {
   "cell_type": "code",
   "execution_count": 1,
   "id": "6af73fd1",
   "metadata": {},
   "outputs": [],
   "source": [
    "def greet(name):\n",
    "    print(f\"Hello, {name}!\")\n"
   ]
  },
  {
   "cell_type": "code",
   "execution_count": 2,
   "id": "4365c946",
   "metadata": {},
   "outputs": [
    {
     "name": "stdout",
     "output_type": "stream",
     "text": [
      "Hello, Alice!\n"
     ]
    }
   ],
   "source": [
    "greet(\"Alice\")"
   ]
  },
  {
   "cell_type": "code",
   "execution_count": 3,
   "id": "04b24444",
   "metadata": {},
   "outputs": [
    {
     "name": "stdout",
     "output_type": "stream",
     "text": [
      "True\n",
      "False\n"
     ]
    }
   ],
   "source": [
    "def is_even(num):\n",
    "    return num % 2 == 0\n",
    "\n",
    "print(is_even(4))  # True\n",
    "print(is_even(5))  # False"
   ]
  },
  {
   "cell_type": "code",
   "execution_count": 4,
   "id": "f4324730",
   "metadata": {},
   "outputs": [],
   "source": [
    "'''For writing to a file'''\n",
    "\n",
    "file = open(\"example.txt\", \"w\")\n",
    "file.write(\"Hello, file!\\n\")\n",
    "file.write(\"This is Python file handling.\\n\")\n",
    "file.close()\n"
   ]
  },
  {
   "cell_type": "code",
   "execution_count": 2,
   "id": "9523aaf4",
   "metadata": {},
   "outputs": [
    {
     "name": "stdout",
     "output_type": "stream",
     "text": [
      "Hello, file!\n",
      "This is Python file handling.\n",
      "\n"
     ]
    }
   ],
   "source": [
    "'''For reading from a file'''\n",
    "\n",
    "file = open('example.txt', 'r')\n",
    "content = file.read()\n",
    "print(content)\n",
    "file.close()\n"
   ]
  },
  {
   "cell_type": "code",
   "id": "09b54169",
   "metadata": {
    "ExecuteTime": {
     "end_time": "2025-08-13T04:08:23.281499Z",
     "start_time": "2025-08-13T04:08:23.278522Z"
    }
   },
   "source": [
    "str_content = \"this is a string that will be written to a file example.txt lets write some more code to test the file writing and reading functionality in python. Some more text for the testing purpose in the jupyter notebook\"\n",
    "\n",
    "with open('example.txt', 'w') as file:\n",
    "    file.write(str_content)\n",
    "file.close()\n",
    "\n",
    "with open('example.txt', 'r') as file:\n",
    "    content = file.read()\n",
    "print(content)\n",
    "file.close()\n"
   ],
   "outputs": [
    {
     "name": "stdout",
     "output_type": "stream",
     "text": [
      "this is a string that will be written to a file example.txt lets write some more code to test the file writing and reading functionality in python. Some more text for the testing purpose in the jupyter notebook\n"
     ]
    }
   ],
   "execution_count": 11
  },
  {
   "cell_type": "code",
   "execution_count": 3,
   "id": "75b5a9d0",
   "metadata": {},
   "outputs": [
    {
     "name": "stdout",
     "output_type": "stream",
     "text": [
      "8\n",
      "2\n",
      "15\n",
      "1.6666666666666667\n",
      "2\n",
      "125\n",
      "1\n",
      "False\n",
      "True\n",
      "True\n",
      "False\n",
      "True\n",
      "False\n",
      "3\n",
      "5\n",
      "False\n"
     ]
    }
   ],
   "source": [
    "''' Lets work on python operators '''\n",
    "\n",
    "print(5 + 3)   # Addition\n",
    "print(5 - 3)   # Subtraction    \n",
    "print(5 * 3)   # Multiplication\n",
    "print(5 / 3)   # Division   \n",
    "print(5 % 3)   # Modulus\n",
    "print(5 ** 3)  # Exponentiation \n",
    "print(5 // 3)  # Floor Division\n",
    "print(5 == 3)   # Equal to\n",
    "print(5 != 3)   # Not equal to\n",
    "print(5 > 3)    # Greater than\n",
    "print(5 < 3)    # Less than\n",
    "print(5 >= 3)   # Greater than or equal to  \n",
    "print(5 <= 3)   # Less than or equal to\n",
    "print(5 and 3)  # Logical AND\n",
    "print(5 or 3)   # Logical OR\n",
    "print(not 5)    # Logical NOT"
   ]
  },
  {
   "cell_type": "code",
   "id": "78fd2b8f",
   "metadata": {
    "ExecuteTime": {
     "end_time": "2025-08-13T04:06:05.355288Z",
     "start_time": "2025-08-13T04:06:05.352725Z"
    }
   },
   "source": [
    "def calculator(a, b, operation):\n",
    "    if operation == '+':\n",
    "        return a + b\n",
    "    elif operation == '-':\n",
    "        return a - b\n",
    "    elif operation == '*':\n",
    "        return a * b\n",
    "    elif operation == '/':\n",
    "        return a / b\n",
    "    elif operation == '%':\n",
    "        return a % b    \n",
    "    elif operation == '**':\n",
    "        return a ** b\n",
    "    elif operation == '//':\n",
    "        return a // b\n",
    "    else:\n",
    "        return \"Invalid operation\""
   ],
   "outputs": [],
   "execution_count": 6
  },
  {
   "cell_type": "code",
   "id": "16a6765e",
   "metadata": {
    "ExecuteTime": {
     "end_time": "2025-08-13T04:04:29.764110Z",
     "start_time": "2025-08-13T04:04:29.761929Z"
    }
   },
   "source": [
    "print(calculator(2, 3, '+'))  # Example usage\n",
    "print(calculator(10, 5, '-'))  # Example usage "
   ],
   "outputs": [
    {
     "name": "stdout",
     "output_type": "stream",
     "text": [
      "5\n",
      "5\n"
     ]
    }
   ],
   "execution_count": 5
  }
 ],
 "metadata": {
  "kernelspec": {
   "display_name": ".venv",
   "language": "python",
   "name": "python3"
  },
  "language_info": {
   "codemirror_mode": {
    "name": "ipython",
    "version": 3
   },
   "file_extension": ".py",
   "mimetype": "text/x-python",
   "name": "python",
   "nbconvert_exporter": "python",
   "pygments_lexer": "ipython3",
   "version": "3.13.6"
  }
 },
 "nbformat": 4,
 "nbformat_minor": 5
}

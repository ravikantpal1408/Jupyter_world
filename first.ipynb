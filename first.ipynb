{
 "cells": [
  {
   "cell_type": "code",
   "id": "fd5d347e",
   "metadata": {
    "ExecuteTime": {
     "end_time": "2025-08-13T04:04:03.410994Z",
     "start_time": "2025-08-13T04:03:55.658487Z"
    }
   },
   "source": [
    "name = input(\"What is your name? \")\n",
    "\n",
    "print(f'Hello Mr.{name}')\n",
    "\n",
    "width = float(input(\"Enter the width of the rectangle: \"))\n",
    "height = float(input(\"Enter the height of the rectangle: \"))\n",
    "\n",
    "area = width * height\n",
    "\n",
    "print(f'The area of the rectangle is {area} square units.')"
   ],
   "outputs": [
    {
     "name": "stdout",
     "output_type": "stream",
     "text": [
      "Hello Mr.ravi\n",
      "The area of the rectangle is 25.0 square units.\n"
     ]
    }
   ],
   "execution_count": 1
  },
  {
   "cell_type": "markdown",
   "id": "b5db73d2",
   "metadata": {},
   "source": [
    "# Lesson 2: Python Data Types & Control Flow\n",
    "\n",
    "---\n",
    "\n",
    "## 1. Data Types Overview\n",
    "\n",
    "Python has several basic data types:\n",
    "\n",
    "| Type    | Description                  | Example             |\n",
    "|---------|------------------------------|---------------------|\n",
    "| `int`   | Integer numbers              | `5`, `-10`          |\n",
    "| `float` | Decimal numbers              | `3.14`, `-0.001`    |\n",
    "| `str`   | Text (string)                | `\"hello\"`, `'a'`    |\n",
    "| `bool`  | Boolean (True or False)      | `True`, `False`     |\n",
    "| `list`  | Ordered, mutable collection  | `[1, 2, 3]`         |\n",
    "| `tuple` | Ordered, immutable collection| `(4, 5, 6)`         |\n",
    "| `dict`  | Key-value pairs              | `{'name': 'Bob'}`   |\n",
    "\n",
    "---\n",
    "\n",
    "## 2. Variables and Types\n",
    "\n",
    "```python\n",
    "x = 10         # int\n",
    "pi = 3.14      # float\n",
    "name = \"Alice\" # str\n",
    "is_happy = True # bool\n"
   ]
  },
  {
   "cell_type": "markdown",
   "id": "7bbb24a7",
   "metadata": {},
   "source": []
  },
  {
   "cell_type": "code",
   "execution_count": 3,
   "id": "2ba6422a",
   "metadata": {},
   "outputs": [
    {
     "name": "stdout",
     "output_type": "stream",
     "text": [
      "Integer: 10, Float: 3.14, String: Alice, Boolean: True\n"
     ]
    }
   ],
   "source": [
    "x = 10         # int\n",
    "pi = 3.14      # float\n",
    "name = \"Alice\" # str\n",
    "is_happy = True # bool\n",
    "\n",
    "print(f'Integer: {x}, Float: {pi}, String: {name}, Boolean: {is_happy}')"
   ]
  },
  {
   "cell_type": "code",
   "execution_count": 4,
   "id": "9f30eaa1",
   "metadata": {},
   "outputs": [
    {
     "name": "stdout",
     "output_type": "stream",
     "text": [
      "You are an adult.\n"
     ]
    }
   ],
   "source": [
    "'''4. Control Flow: if-else'''\n",
    "age = 20\n",
    "\n",
    "if age >= 18:\n",
    "    print(\"You are an adult.\")\n",
    "else:\n",
    "    print(\"You are a minor.\")"
   ]
  },
  {
   "cell_type": "code",
   "execution_count": 5,
   "id": "b4c03d97",
   "metadata": {},
   "outputs": [
    {
     "name": "stdout",
     "output_type": "stream",
     "text": [
      "For loop iteration 0\n",
      "For loop iteration 1\n",
      "For loop iteration 2\n",
      "For loop iteration 3\n",
      "For loop iteration 4\n",
      "While loop count: 0\n",
      "While loop count: 1\n",
      "While loop count: 2\n",
      "While loop count: 3\n",
      "While loop count: 4\n"
     ]
    }
   ],
   "source": [
    "'''For loop and while loop'''\n",
    "for i in range(5):\n",
    "    print(f'For loop iteration {i}')\n",
    "\n",
    "count = 0\n",
    "while count < 5:\n",
    "    print(f'While loop count: {count}')\n",
    "    count += 1"
   ]
  },
  {
   "cell_type": "code",
   "execution_count": 1,
   "id": "6af73fd1",
   "metadata": {},
   "outputs": [],
   "source": [
    "def greet(name):\n",
    "    print(f\"Hello, {name}!\")\n"
   ]
  },
  {
   "cell_type": "code",
   "execution_count": 2,
   "id": "4365c946",
   "metadata": {},
   "outputs": [
    {
     "name": "stdout",
     "output_type": "stream",
     "text": [
      "Hello, Alice!\n"
     ]
    }
   ],
   "source": [
    "greet(\"Alice\")"
   ]
  },
  {
   "cell_type": "code",
   "execution_count": 3,
   "id": "04b24444",
   "metadata": {},
   "outputs": [
    {
     "name": "stdout",
     "output_type": "stream",
     "text": [
      "True\n",
      "False\n"
     ]
    }
   ],
   "source": [
    "def is_even(num):\n",
    "    return num % 2 == 0\n",
    "\n",
    "print(is_even(4))  # True\n",
    "print(is_even(5))  # False"
   ]
  },
  {
   "cell_type": "code",
   "execution_count": 4,
   "id": "f4324730",
   "metadata": {},
   "outputs": [],
   "source": [
    "'''For writing to a file'''\n",
    "\n",
    "file = open(\"example.txt\", \"w\")\n",
    "file.write(\"Hello, file!\\n\")\n",
    "file.write(\"This is Python file handling.\\n\")\n",
    "file.close()\n"
   ]
  },
  {
   "cell_type": "code",
   "execution_count": 2,
   "id": "9523aaf4",
   "metadata": {},
   "outputs": [
    {
     "name": "stdout",
     "output_type": "stream",
     "text": [
      "Hello, file!\n",
      "This is Python file handling.\n",
      "\n"
     ]
    }
   ],
   "source": [
    "'''For reading from a file'''\n",
    "\n",
    "file = open('example.txt', 'r')\n",
    "content = file.read()\n",
    "print(content)\n",
    "file.close()\n"
   ]
  },
  {
   "cell_type": "code",
   "id": "09b54169",
   "metadata": {
    "ExecuteTime": {
     "end_time": "2025-08-13T04:08:23.281499Z",
     "start_time": "2025-08-13T04:08:23.278522Z"
    }
   },
   "source": [
    "str_content = \"this is a string that will be written to a file example.txt lets write some more code to test the file writing and reading functionality in python. Some more text for the testing purpose in the jupyter notebook\"\n",
    "\n",
    "with open('example.txt', 'w') as file:\n",
    "    file.write(str_content)\n",
    "file.close()\n",
    "\n",
    "with open('example.txt', 'r') as file:\n",
    "    content = file.read()\n",
    "print(content)\n",
    "file.close()\n"
   ],
   "outputs": [
    {
     "name": "stdout",
     "output_type": "stream",
     "text": [
      "this is a string that will be written to a file example.txt lets write some more code to test the file writing and reading functionality in python. Some more text for the testing purpose in the jupyter notebook\n"
     ]
    }
   ],
   "execution_count": 11
  },
  {
   "cell_type": "code",
   "execution_count": 3,
   "id": "75b5a9d0",
   "metadata": {},
   "outputs": [
    {
     "name": "stdout",
     "output_type": "stream",
     "text": [
      "8\n",
      "2\n",
      "15\n",
      "1.6666666666666667\n",
      "2\n",
      "125\n",
      "1\n",
      "False\n",
      "True\n",
      "True\n",
      "False\n",
      "True\n",
      "False\n",
      "3\n",
      "5\n",
      "False\n"
     ]
    }
   ],
   "source": [
    "''' Lets work on python operators '''\n",
    "\n",
    "print(5 + 3)   # Addition\n",
    "print(5 - 3)   # Subtraction    \n",
    "print(5 * 3)   # Multiplication\n",
    "print(5 / 3)   # Division   \n",
    "print(5 % 3)   # Modulus\n",
    "print(5 ** 3)  # Exponentiation \n",
    "print(5 // 3)  # Floor Division\n",
    "print(5 == 3)   # Equal to\n",
    "print(5 != 3)   # Not equal to\n",
    "print(5 > 3)    # Greater than\n",
    "print(5 < 3)    # Less than\n",
    "print(5 >= 3)   # Greater than or equal to  \n",
    "print(5 <= 3)   # Less than or equal to\n",
    "print(5 and 3)  # Logical AND\n",
    "print(5 or 3)   # Logical OR\n",
    "print(not 5)    # Logical NOT"
   ]
  },
  {
   "cell_type": "code",
   "id": "78fd2b8f",
   "metadata": {
    "ExecuteTime": {
     "end_time": "2025-08-13T04:06:05.355288Z",
     "start_time": "2025-08-13T04:06:05.352725Z"
    }
   },
   "source": [
    "def calculator(a, b, operation):\n",
    "    if operation == '+':\n",
    "        return a + b\n",
    "    elif operation == '-':\n",
    "        return a - b\n",
    "    elif operation == '*':\n",
    "        return a * b\n",
    "    elif operation == '/':\n",
    "        return a / b\n",
    "    elif operation == '%':\n",
    "        return a % b    \n",
    "    elif operation == '**':\n",
    "        return a ** b\n",
    "    elif operation == '//':\n",
    "        return a // b\n",
    "    else:\n",
    "        return \"Invalid operation\""
   ],
   "outputs": [],
   "execution_count": 6
  },
  {
   "cell_type": "code",
   "id": "16a6765e",
   "metadata": {
    "ExecuteTime": {
     "end_time": "2025-08-13T04:04:29.764110Z",
     "start_time": "2025-08-13T04:04:29.761929Z"
    }
   },
   "source": [
    "print(calculator(2, 3, '+'))  # Example usage\n",
    "print(calculator(10, 5, '-'))  # Example usage "
   ],
   "outputs": [
    {
     "name": "stdout",
     "output_type": "stream",
     "text": [
      "5\n",
      "5\n"
     ]
    }
   ],
   "source": [
    "print(calculator(2, 3, '+'))  # Example usage\n",
    "print(calculator(10, 5, '-'))  # Example usage "
   ]
  },
  {
   "cell_type": "markdown",
   "id": "64f31d8c",
   "metadata": {},
   "source": [
    "# String operations \n"
   ]
  },
  {
   "cell_type": "code",
   "execution_count": 1,
   "id": "e444a3a8",
   "metadata": {},
   "outputs": [
    {
     "name": "stdout",
     "output_type": "stream",
     "text": [
      "Hello World\n",
      "HelloHelloHello\n",
      "H\n",
      "o\n",
      "ell\n"
     ]
    }
   ],
   "source": [
    "text1 = \"Hello\"\n",
    "text2 = \"World\"\n",
    "\n",
    "print(text1 + \" \" + text2)  # Concatenation\n",
    "print(text1 * 3)            # Repeat string\n",
    "print(text1[0])             # First character\n",
    "print(text1[-1])            # Last character\n",
    "print(text1[1:4])           # Slice from index 1 to 3"
   ]
  },
  {
   "cell_type": "code",
   "execution_count": 6,
   "id": "2a7e2dcc",
   "metadata": {},
   "outputs": [
    {
     "name": "stdout",
     "output_type": "stream",
     "text": [
      "p\n",
      "n\n",
      "p\n",
      "y\n",
      "t\n",
      "h\n",
      "o\n",
      "n\n",
      "nohtyp\n"
     ]
    }
   ],
   "source": [
    "word = 'python'\n",
    "print(word[0])\n",
    "print(word[-1])\n",
    "for i in range(len(word)):\n",
    "    print(word[i])  # Print each character in the word\n",
    "    \n",
    "reversed_word = word[::-1]\n",
    "print(reversed_word)  "
   ]
  },
  {
   "cell_type": "markdown",
   "id": "d79394b1",
   "metadata": {},
   "source": [
    "# Mini Project #2 — Number Guessing Game 🎯"
   ]
  },
  {
   "cell_type": "code",
   "execution_count": 7,
   "id": "1cb34b41",
   "metadata": {},
   "outputs": [
    {
     "name": "stdout",
     "output_type": "stream",
     "text": [
      "Too low! Try again.\n",
      "Too low! Try again.\n",
      "Too high! Try again.\n",
      "Too low! Try again.\n",
      "Too low! Try again.\n",
      "Too high! Try again.\n",
      "Too low! Try again.\n",
      "Too low! Try again.\n",
      "Too low! Try again.\n",
      "Too low! Try again.\n",
      "🎉 Correct! You guessed it in 11 attempts.\n"
     ]
    }
   ],
   "source": [
    "import random\n",
    "\n",
    "secret_number = random.randint(1, 100)\n",
    "guess = None\n",
    "attempts = 0\n",
    "\n",
    "while guess != secret_number:\n",
    "    guess = int(input(\"Guess a number between 1 and 100: \"))\n",
    "    attempts += 1\n",
    "    \n",
    "    if guess == secret_number:\n",
    "        print(f\"🎉 Correct! You guessed it in {attempts} attempts.\")\n",
    "    elif guess < secret_number:\n",
    "        print(\"Too low! Try again.\")\n",
    "    else:\n",
    "        print(\"Too high! Try again.\")\n",
    "\n"
   ]
  },
  {
   "cell_type": "code",
   "execution_count": 8,
   "id": "fd222041",
   "metadata": {},
   "outputs": [
    {
     "name": "stdout",
     "output_type": "stream",
     "text": [
      "Too high! Try again.\n",
      "Too high! Try again.\n",
      "Too low! Try again.\n",
      "Too low! Try again.\n",
      "Too low! Try again.\n",
      "Too high! Try again.\n",
      "Too high! Try again.\n",
      "🎉 Correct! You guessed it in 8 attempts.\n",
      "✅ Game result saved to game_results.txt\n"
     ]
    }
   ],
   "source": [
    "import random\n",
    "\n",
    "# Ask for player's name\n",
    "player_name = input(\"Enter your name: \")\n",
    "\n",
    "secret_number = random.randint(1, 100)\n",
    "guess = None\n",
    "attempts = 0\n",
    "\n",
    "while guess != secret_number:\n",
    "    guess = int(input(\"Guess a number between 1 and 100: \"))\n",
    "    attempts += 1\n",
    "    \n",
    "    if guess == secret_number:\n",
    "        print(f\"🎉 Correct! You guessed it in {attempts} attempts.\")\n",
    "    elif guess < secret_number:\n",
    "        print(\"Too low! Try again.\")\n",
    "    else:\n",
    "        print(\"Too high! Try again.\")\n",
    "\n",
    "# Save the result to a file\n",
    "with open(\"game_results.txt\", \"a\") as file:  # \"a\" means append mode\n",
    "    file.write(f\"{player_name} guessed {secret_number} in {attempts} attempts\\n\")\n",
    "\n",
    "print(\"✅ Game result saved to game_results.txt\")\n"
   ]
  },
  {
   "cell_type": "markdown",
   "id": "ee965300",
   "metadata": {},
   "source": [
    "# Ladder board feature "
   ]
  },
  {
   "cell_type": "code",
   "execution_count": 11,
   "id": "768cfb5b",
   "metadata": {},
   "outputs": [
    {
     "name": "stdout",
     "output_type": "stream",
     "text": [
      "Too high! Try again.\n",
      "Too low! Try again.\n",
      "🎉 Correct! You guessed it in 3 attempts.\n",
      "\n",
      "✅ Game result saved!\n",
      "\n",
      "🏆 Leaderboard:\n",
      "--------------------\n",
      "99 guessed 27 in 8 attempts\n",
      "12 guessed 10 in 3 attempts\n"
     ]
    }
   ],
   "source": [
    "import random\n",
    "\n",
    "# Ask for player's name\n",
    "player_name = input(\"Enter your name: \")\n",
    "\n",
    "secret_number = random.randint(1, 100)\n",
    "guess = None\n",
    "attempts = 0\n",
    "\n",
    "while guess != secret_number:\n",
    "    guess = int(input(\"Guess a number between 1 and 100: \"))\n",
    "    attempts += 1\n",
    "    \n",
    "    if guess == secret_number:\n",
    "        print(f\"🎉 Correct! You guessed it in {attempts} attempts.\")\n",
    "    elif guess < secret_number:\n",
    "        print(\"Too low! Try again.\")\n",
    "    else:\n",
    "        print(\"Too high! Try again.\")\n",
    "\n",
    "# Save the result\n",
    "with open(\"game_results.txt\", \"a\") as file:\n",
    "    file.write(f\"{player_name} guessed {secret_number} in {attempts} attempts\\n\")\n",
    "\n",
    "print(\"\\n✅ Game result saved!\")\n",
    "\n",
    "# Show leaderboard\n",
    "print(\"\\n🏆 Leaderboard:\")\n",
    "print(\"--------------------\")\n",
    "try:\n",
    "    with open(\"game_results.txt\", \"r\") as file:\n",
    "        for line in file:\n",
    "            print(line.strip())\n",
    "except FileNotFoundError:\n",
    "    print(\"No games played yet!\")\n"
   ]
  },
  {
   "cell_type": "markdown",
   "id": "fae3563e",
   "metadata": {},
   "source": [
    "# Data Structure in python "
   ]
  },
  {
   "cell_type": "code",
   "execution_count": 12,
   "id": "8cce7d5d",
   "metadata": {},
   "outputs": [
    {
     "name": "stdout",
     "output_type": "stream",
     "text": [
      "apple\n",
      "['cherry', 'banana', 'apple']\n"
     ]
    }
   ],
   "source": [
    "fruits = [\"apple\", \"banana\", \"cherry\"]\n",
    "print(fruits[0])        # First element\n",
    "print(fruits[::-1])       # Last element"
   ]
  },
  {
   "cell_type": "code",
   "execution_count": 15,
   "id": "dc590f57",
   "metadata": {},
   "outputs": [
    {
     "name": "stdout",
     "output_type": "stream",
     "text": [
      "maerc eci eip elbbe\n"
     ]
    }
   ],
   "source": [
    "str_content = \"pebble pie ice cream\"\n",
    "reversed = ''\n",
    "for c in range(len(str_content)-1,0,-1):\n",
    "    reversed += str_content[c]  # Reverse the string\n",
    "print(reversed)  # Output: maerc eip elbbep"
   ]
  },
  {
   "cell_type": "code",
   "execution_count": 19,
   "id": "5ec615b1",
   "metadata": {},
   "outputs": [
    {
     "name": "stdout",
     "output_type": "stream",
     "text": [
      "Too low! Try again.\n",
      "Too low! Try again.\n",
      "Too low! Try again.\n",
      "Too low! Try again.\n",
      "Too low! Try again.\n",
      "🎉 Correct! You guessed it in 6 attempts.\n",
      "\n",
      "✅ Game result saved!\n",
      "\n",
      "🏆 Leaderboard (Fewest Attempts First):\n",
      "------------------------------------\n",
      "1. 12 — 6 attempts\n",
      "2. 22 — 7 attempts\n"
     ]
    }
   ],
   "source": [
    "import random\n",
    "import os\n",
    "\n",
    "# Ask for player's name\n",
    "player_name = input(\"Enter your name: \")\n",
    "\n",
    "secret_number = random.randint(1, 100)\n",
    "guess = None\n",
    "attempts = 0\n",
    "\n",
    "while guess != secret_number:\n",
    "    guess = int(input(\"Guess a number between 1 and 100: \"))\n",
    "    attempts += 1\n",
    "    \n",
    "    if guess == secret_number:\n",
    "        print(f\"🎉 Correct! You guessed it in {attempts} attempts.\")\n",
    "    elif guess < secret_number:\n",
    "        print(\"Too low! Try again.\")\n",
    "    else:\n",
    "        print(\"Too high! Try again.\")\n",
    "\n",
    "# Save result in a text file\n",
    "with open(\"game_results.txt\", \"a\") as file:\n",
    "    file.write(f\"{player_name},{attempts}\\n\")\n",
    "\n",
    "print(\"\\n✅ Game result saved!\")\n",
    "\n",
    "# Read results into a list of dictionaries\n",
    "# Read results into a list of dictionaries\n",
    "leaderboard = []\n",
    "if os.path.exists(\"game_results.txt\"):\n",
    "    with open(\"game_results.txt\", \"r\") as file:\n",
    "        for line in file:\n",
    "            parts = line.strip().split(\",\")\n",
    "            if len(parts) == 2:  # Only process correct format\n",
    "                name, tries = parts\n",
    "                leaderboard.append({\"name\": name, \"attempts\": int(tries)})\n",
    "\n",
    "\n",
    "# Sort leaderboard by attempts (lowest first)\n",
    "leaderboard = sorted(leaderboard, key=lambda x: x[\"attempts\"])\n",
    "\n",
    "# Display leaderboard\n",
    "print(\"\\n🏆 Leaderboard (Fewest Attempts First):\")\n",
    "print(\"------------------------------------\")\n",
    "for rank, entry in enumerate(leaderboard, start=1):\n",
    "    print(f\"{rank}. {entry['name']} — {entry['attempts']} attempts\")\n"
   ]
  },
  {
   "cell_type": "markdown",
   "id": "10c4535c",
   "metadata": {},
   "source": [
    "# Refactored Number guessing game"
   ]
  },
  {
   "cell_type": "code",
   "execution_count": 20,
   "id": "5821f65e",
   "metadata": {},
   "outputs": [
    {
     "name": "stdout",
     "output_type": "stream",
     "text": [
      "Too high! Try again.\n",
      "Too low! Try again.\n",
      "Too high! Try again.\n",
      "Too high! Try again.\n",
      "Too high! Try again.\n",
      "🎉 Correct! You guessed it in 6 attempts.\n",
      "\n",
      "✅ Game result saved!\n",
      "\n",
      "🏆 Leaderboard (Fewest Attempts First):\n",
      "------------------------------------\n",
      "1. 12 — 6 attempts\n",
      "2. 90 — 6 attempts\n",
      "3. 22 — 7 attempts\n"
     ]
    }
   ],
   "source": [
    "import random\n",
    "import os\n",
    "\n",
    "# Function to play the game\n",
    "def play_game():\n",
    "    player_name = input(\"Enter your name: \")\n",
    "    secret_number = random.randint(1, 100)\n",
    "    guess = None\n",
    "    attempts = 0\n",
    "\n",
    "    while guess != secret_number:\n",
    "        guess = int(input(\"Guess a number between 1 and 100: \"))\n",
    "        attempts += 1\n",
    "\n",
    "        if guess == secret_number:\n",
    "            print(f\"🎉 Correct! You guessed it in {attempts} attempts.\")\n",
    "        elif guess < secret_number:\n",
    "            print(\"Too low! Try again.\")\n",
    "        else:\n",
    "            print(\"Too high! Try again.\")\n",
    "\n",
    "    save_result(player_name, attempts)\n",
    "    show_leaderboard()\n",
    "\n",
    "\n",
    "# Function to save game results\n",
    "def save_result(name, attempts):\n",
    "    with open(\"game_results.txt\", \"a\") as file:\n",
    "        file.write(f\"{name},{attempts}\\n\")\n",
    "    print(\"\\n✅ Game result saved!\")\n",
    "\n",
    "\n",
    "# Function to display sorted leaderboard\n",
    "def show_leaderboard():\n",
    "    leaderboard = []\n",
    "    if os.path.exists(\"game_results.txt\"):\n",
    "        with open(\"game_results.txt\", \"r\") as file:\n",
    "            for line in file:\n",
    "                parts = line.strip().split(\",\")\n",
    "                if len(parts) == 2:  # Skip invalid lines\n",
    "                    name, tries = parts\n",
    "                    leaderboard.append({\"name\": name, \"attempts\": int(tries)})\n",
    "\n",
    "    # Sort by attempts\n",
    "    leaderboard.sort(key=lambda x: x[\"attempts\"])\n",
    "\n",
    "    # Display leaderboard\n",
    "    print(\"\\n🏆 Leaderboard (Fewest Attempts First):\")\n",
    "    print(\"------------------------------------\")\n",
    "    for rank, entry in enumerate(leaderboard, start=1):\n",
    "        print(f\"{rank}. {entry['name']} — {entry['attempts']} attempts\")\n",
    "\n",
    "\n",
    "# Run the game\n",
    "play_game()\n"
   ]
  },
  {
   "cell_type": "code",
   "execution_count": null,
   "id": "7c86497e",
   "metadata": {},
   "outputs": [],
   "source": []
  }
 ],
 "metadata": {
  "kernelspec": {
   "display_name": ".venv",
   "language": "python",
   "name": "python3"
  },
  "language_info": {
   "codemirror_mode": {
    "name": "ipython",
    "version": 3
   },
   "file_extension": ".py",
   "mimetype": "text/x-python",
   "name": "python",
   "nbconvert_exporter": "python",
   "pygments_lexer": "ipython3",
   "version": "3.13.6"
  }
 },
 "nbformat": 4,
 "nbformat_minor": 5
}

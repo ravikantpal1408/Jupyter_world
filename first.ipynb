{
 "cells": [
  {
   "cell_type": "code",
   "execution_count": 2,
   "id": "fd5d347e",
   "metadata": {},
   "outputs": [
    {
     "name": "stdout",
     "output_type": "stream",
     "text": [
      "Hello Mr.ravi\n",
      "The area of the rectangle is 25.0 square units.\n"
     ]
    }
   ],
   "source": [
    "name = input(\"What is your name? \")\n",
    "\n",
    "print(f'Hello Mr.{name}')\n",
    "\n",
    "width = float(input(\"Enter the width of the rectangle: \"))\n",
    "height = float(input(\"Enter the height of the rectangle: \"))\n",
    "\n",
    "area = width * height\n",
    "\n",
    "print(f'The area of the rectangle is {area} square units.')"
   ]
  },
  {
   "cell_type": "markdown",
   "id": "b5db73d2",
   "metadata": {},
   "source": [
    "# Lesson 2: Python Data Types & Control Flow\n",
    "\n",
    "---\n",
    "\n",
    "## 1. Data Types Overview\n",
    "\n",
    "Python has several basic data types:\n",
    "\n",
    "| Type    | Description                  | Example             |\n",
    "|---------|------------------------------|---------------------|\n",
    "| `int`   | Integer numbers              | `5`, `-10`          |\n",
    "| `float` | Decimal numbers              | `3.14`, `-0.001`    |\n",
    "| `str`   | Text (string)                | `\"hello\"`, `'a'`    |\n",
    "| `bool`  | Boolean (True or False)      | `True`, `False`     |\n",
    "| `list`  | Ordered, mutable collection  | `[1, 2, 3]`         |\n",
    "| `tuple` | Ordered, immutable collection| `(4, 5, 6)`         |\n",
    "| `dict`  | Key-value pairs              | `{'name': 'Bob'}`   |\n",
    "\n",
    "---\n",
    "\n",
    "## 2. Variables and Types\n",
    "\n",
    "```python\n",
    "x = 10         # int\n",
    "pi = 3.14      # float\n",
    "name = \"Alice\" # str\n",
    "is_happy = True # bool\n"
   ]
  },
  {
   "cell_type": "markdown",
   "id": "7bbb24a7",
   "metadata": {},
   "source": []
  },
  {
   "cell_type": "code",
   "execution_count": 3,
   "id": "2ba6422a",
   "metadata": {},
   "outputs": [
    {
     "name": "stdout",
     "output_type": "stream",
     "text": [
      "Integer: 10, Float: 3.14, String: Alice, Boolean: True\n"
     ]
    }
   ],
   "source": [
    "x = 10         # int\n",
    "pi = 3.14      # float\n",
    "name = \"Alice\" # str\n",
    "is_happy = True # bool\n",
    "\n",
    "print(f'Integer: {x}, Float: {pi}, String: {name}, Boolean: {is_happy}')"
   ]
  },
  {
   "cell_type": "code",
   "execution_count": 4,
   "id": "9f30eaa1",
   "metadata": {},
   "outputs": [
    {
     "name": "stdout",
     "output_type": "stream",
     "text": [
      "You are an adult.\n"
     ]
    }
   ],
   "source": [
    "'''4. Control Flow: if-else'''\n",
    "age = 20\n",
    "\n",
    "if age >= 18:\n",
    "    print(\"You are an adult.\")\n",
    "else:\n",
    "    print(\"You are a minor.\")"
   ]
  },
  {
   "cell_type": "code",
   "execution_count": 5,
   "id": "b4c03d97",
   "metadata": {},
   "outputs": [
    {
     "name": "stdout",
     "output_type": "stream",
     "text": [
      "For loop iteration 0\n",
      "For loop iteration 1\n",
      "For loop iteration 2\n",
      "For loop iteration 3\n",
      "For loop iteration 4\n",
      "While loop count: 0\n",
      "While loop count: 1\n",
      "While loop count: 2\n",
      "While loop count: 3\n",
      "While loop count: 4\n"
     ]
    }
   ],
   "source": [
    "'''For loop and while loop'''\n",
    "for i in range(5):\n",
    "    print(f'For loop iteration {i}')\n",
    "\n",
    "count = 0\n",
    "while count < 5:\n",
    "    print(f'While loop count: {count}')\n",
    "    count += 1"
   ]
  }
 ],
 "metadata": {
  "kernelspec": {
   "display_name": ".venv",
   "language": "python",
   "name": "python3"
  },
  "language_info": {
   "codemirror_mode": {
    "name": "ipython",
    "version": 3
   },
   "file_extension": ".py",
   "mimetype": "text/x-python",
   "name": "python",
   "nbconvert_exporter": "python",
   "pygments_lexer": "ipython3",
   "version": "3.13.6"
  }
 },
 "nbformat": 4,
 "nbformat_minor": 5
}
